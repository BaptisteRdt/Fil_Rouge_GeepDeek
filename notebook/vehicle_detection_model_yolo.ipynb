{
  "cells": [
    {
      "cell_type": "code",
      "execution_count": null,
      "metadata": {
        "colab": {
          "base_uri": "https://localhost:8080/"
        },
        "id": "t0nB6Y6nTSGH",
        "outputId": "fbd48bea-fbd2-41e5-97c3-df0395188ee3"
      },
      "outputs": [],
      "source": [
        "# from google.colab import drive\n",
        "# drive.mount('/content/drive/')"
      ]
    },
    {
      "cell_type": "code",
      "execution_count": null,
      "metadata": {
        "colab": {
          "base_uri": "https://localhost:8080/"
        },
        "id": "6X2Uw2EoTxcP",
        "outputId": "1a138d31-1f59-4dc4-c9f2-423ec8a494ef"
      },
      "outputs": [],
      "source": [
        "# !pip install ultralytics --quiet"
      ]
    },
    {
      "cell_type": "code",
      "execution_count": null,
      "metadata": {
        "id": "MRib2CNBO7Ja"
      },
      "outputs": [],
      "source": [
        "# Disable warnings in the notebook to maintain clean output cells\n",
        "import warnings\n",
        "warnings.filterwarnings('ignore')\n",
        "\n",
        "# Import necessary libraries\n",
        "import os\n",
        "import shutil\n",
        "import numpy as np\n",
        "import pandas as pd\n",
        "import matplotlib.pyplot as plt\n",
        "import seaborn as sns\n",
        "import cv2\n",
        "import yaml\n",
        "from PIL import Image\n",
        "from ultralytics import YOLO\n",
        "from IPython.display import Video\n",
        "\n",
        "import torch"
      ]
    },
    {
      "cell_type": "code",
      "execution_count": null,
      "metadata": {},
      "outputs": [],
      "source": [
        "# # To unzip the dataset in the colab environment\n",
        "# os.system(f'unzip /content/drive/MyDrive/vehicle_detection_Yv8.zip')"
      ]
    },
    {
      "cell_type": "code",
      "execution_count": null,
      "metadata": {
        "id": "BuStWJx2O7Jb"
      },
      "outputs": [],
      "source": [
        "# Load the yolo model\n",
        "model = YOLO('yolov8s.yaml')"
      ]
    },
    {
      "cell_type": "markdown",
      "metadata": {
        "id": "mNLKRyHXS6uL"
      },
      "source": []
    },
    {
      "cell_type": "code",
      "execution_count": null,
      "metadata": {
        "colab": {
          "base_uri": "https://localhost:8080/"
        },
        "id": "ZwXecapGO7Jc",
        "outputId": "2212f47c-722d-49cb-d761-9f4421e658e9"
      },
      "outputs": [],
      "source": [
        "# Define the dataset_path\n",
        "dataset_path = '/content/vehicle_detection_Yv8'\n",
        "\n",
        "# Set the path to the YAML file\n",
        "yaml_file_path = os.path.join(dataset_path, 'data.yaml')\n",
        "\n",
        "# Load and print the contents of the YAML file\n",
        "with open(yaml_file_path, 'r') as file:\n",
        "    yaml_content = yaml.load(file, Loader=yaml.FullLoader)\n",
        "    print(yaml.dump(yaml_content, default_flow_style=False))"
      ]
    },
    {
      "cell_type": "code",
      "execution_count": null,
      "metadata": {
        "colab": {
          "base_uri": "https://localhost:8080/"
        },
        "id": "kWp8Yv3QO7Jc",
        "outputId": "cf7bc29a-1811-444e-808a-3486e88c0a33"
      },
      "outputs": [],
      "source": [
        "# Set paths for training and validation image sets\n",
        "train_images_path = os.path.join(dataset_path, 'train', 'images')\n",
        "valid_images_path = os.path.join(dataset_path, 'valid', 'images')\n",
        "\n",
        "# Initialize counters for the number of images\n",
        "num_train_images = 0\n",
        "num_valid_images = 0\n",
        "\n",
        "# Initialize sets to hold the unique sizes of images\n",
        "train_image_sizes = set()\n",
        "valid_image_sizes = set()\n",
        "\n",
        "# Check train images sizes and count\n",
        "for filename in os.listdir(train_images_path):\n",
        "    if filename.endswith('.jpg'):\n",
        "        num_train_images += 1\n",
        "        image_path = os.path.join(train_images_path, filename)\n",
        "        with Image.open(image_path) as img:\n",
        "            train_image_sizes.add(img.size)\n",
        "\n",
        "# Check validation images sizes and count\n",
        "for filename in os.listdir(valid_images_path):\n",
        "    if filename.endswith('.jpg'):\n",
        "        num_valid_images += 1\n",
        "        image_path = os.path.join(valid_images_path, filename)\n",
        "        with Image.open(image_path) as img:\n",
        "            valid_image_sizes.add(img.size)\n",
        "\n",
        "# Print the results\n",
        "print(f\"Number of training images: {num_train_images}\")\n",
        "print(f\"Number of validation images: {num_valid_images}\")\n",
        "\n",
        "# Check if all images in training set have the same size\n",
        "if len(train_image_sizes) == 1:\n",
        "    print(f\"All training images have the same size: {train_image_sizes.pop()}\")\n",
        "else:\n",
        "    print(\"Training images have varying sizes.\")\n",
        "\n",
        "# Check if all images in validation set have the same size\n",
        "if len(valid_image_sizes) == 1:\n",
        "    print(f\"All validation images have the same size: {valid_image_sizes.pop()}\")\n",
        "else:\n",
        "    print(\"Validation images have varying sizes.\")"
      ]
    },
    {
      "cell_type": "code",
      "execution_count": null,
      "metadata": {
        "colab": {
          "base_uri": "https://localhost:8080/"
        },
        "id": "FpD2dznvO7Jc",
        "outputId": "3ed3a73a-c4d5-4a61-dc18-e2285610dd59"
      },
      "outputs": [],
      "source": [
        "#NB == n'entrainer que sur 40 epochs, ça suffit vu les courbes de loss\n",
        "# Train the model on our custom dataset\n",
        "results = model.train(\n",
        "    data=yaml_file_path,     # Path to the dataset configuration file\n",
        "    epochs=80,              # Number of epochs to train for\n",
        "    imgsz=640,               # Size of input images as integer\n",
        "    device=0,                # Device to run on, i.e. cuda device=0\n",
        "    batch=64,                # Number of images per batch\n",
        "    optimizer='Adam',        # Optimizer to use, choices=[SGD, Adam, Adamax, AdamW, NAdam, RAdam, RMSProp, auto]\n",
        "    lr0=0.001,              # Initial learning rate\n",
        "    dropout=0.1,             # Use dropout regularization\n",
        "    seed=42                  # Random seed for reproducibility\n",
        ")"
      ]
    },
    {
      "cell_type": "code",
      "execution_count": null,
      "metadata": {
        "id": "fDZDRltLO7Jc"
      },
      "outputs": [],
      "source": [
        "best_model = '/content/runs/detect/train3/weights/best.pt'\n",
        "best_model.save('best_model_VehicleDetection_Yv8.pt')"
      ]
    },
    {
      "cell_type": "code",
      "execution_count": null,
      "metadata": {
        "id": "80E4pADWgbm4"
      },
      "outputs": [],
      "source": []
    }
  ],
  "metadata": {
    "accelerator": "GPU",
    "colab": {
      "gpuType": "T4",
      "provenance": []
    },
    "kernelspec": {
      "display_name": "Python 3",
      "name": "python3"
    },
    "language_info": {
      "codemirror_mode": {
        "name": "ipython",
        "version": 3
      },
      "file_extension": ".py",
      "mimetype": "text/x-python",
      "name": "python",
      "nbconvert_exporter": "python",
      "pygments_lexer": "ipython3",
      "version": "3.12.2"
    }
  },
  "nbformat": 4,
  "nbformat_minor": 0
}
